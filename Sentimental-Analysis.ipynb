{
 "cells": [
  {
   "cell_type": "markdown",
   "id": "gothic-quilt",
   "metadata": {},
   "source": [
    "# Sentimental Analysis with LSTM"
   ]
  },
  {
   "cell_type": "markdown",
   "id": "tracked-greensboro",
   "metadata": {
    "ExecuteTime": {
     "end_time": "2021-04-01T11:13:18.516942Z",
     "start_time": "2021-04-01T11:13:18.515212Z"
    }
   },
   "source": [
    "## Applying Deep Learning in Natural Language Process"
   ]
  },
  {
   "cell_type": "markdown",
   "id": "noble-degree",
   "metadata": {},
   "source": [
    "### Word Vectors\n",
    "The machine learning method needs the input be in the format scalar number or a vector of scalar numbers. <br />\n",
    "Each word in the sentence needs to be transform in a vector."
   ]
  },
  {
   "cell_type": "markdown",
   "id": "equipped-stewart",
   "metadata": {},
   "source": [
    "### Word2Vec\n",
    "The output from Word2Vec Model is called Embedding Matrix"
   ]
  },
  {
   "cell_type": "markdown",
   "id": "severe-lottery",
   "metadata": {},
   "source": [
    "### Recurrent Neural Network (RNN)\n",
    "We often used RNN in NLP's problems becaus the word we want predict depends the previous and after words in the sentence. <br/>\n",
    "The number of time steps will be the same as the length of each setence.\n",
    "The final layer of this model is a Density Layer with a SoftMax activation fuction which will show the probability of negative or positive sentimental."
   ]
  },
  {
   "cell_type": "markdown",
   "id": "returning-heart",
   "metadata": {},
   "source": [
    "### Long Short Term Memory Units (LSTMs)\n",
    "LSTM can handle information in long term which the commom RNN can't do. This because the LSTM has three gates: input gate, output gate and forget gate. So the LSTM can forget data when its not important to the sentence."
   ]
  },
  {
   "cell_type": "markdown",
   "id": "charitable-handbook",
   "metadata": {},
   "source": [
    "### Sentimental Analysis using Deep Learning\n",
    "The main 5 steps:\n",
    "    1) Trainning a model to generate word vectors like Word2Vec or load word vectors already trained\n",
    "    2) Create a matrix of ID to our testing data\n",
    "    3) Create the RNN graph with LSTM units\n",
    "    4) Trainning\n",
    "    5) Testing"
   ]
  },
  {
   "cell_type": "markdown",
   "id": "asian-jesus",
   "metadata": {
    "ExecuteTime": {
     "end_time": "2021-04-01T11:57:35.735968Z",
     "start_time": "2021-04-01T11:57:35.734310Z"
    }
   },
   "source": [
    "# Loading Data"
   ]
  },
  {
   "cell_type": "markdown",
   "id": "unsigned-circus",
   "metadata": {},
   "source": [
    "Google data: https://code.google.com/archive/p/word2vec/#Pre-trained_word_and_phrase_vectors <br />\n",
    "Stanford data: https://nlp.stanford.edu/projects/glove/"
   ]
  },
  {
   "cell_type": "code",
   "execution_count": null,
   "id": "recorded-assumption",
   "metadata": {},
   "outputs": [],
   "source": []
  }
 ],
 "metadata": {
  "kernelspec": {
   "display_name": "Python 3",
   "language": "python",
   "name": "python3"
  },
  "language_info": {
   "codemirror_mode": {
    "name": "ipython",
    "version": 3
   },
   "file_extension": ".py",
   "mimetype": "text/x-python",
   "name": "python",
   "nbconvert_exporter": "python",
   "pygments_lexer": "ipython3",
   "version": "3.8.5"
  },
  "toc": {
   "base_numbering": 1,
   "nav_menu": {},
   "number_sections": true,
   "sideBar": true,
   "skip_h1_title": false,
   "title_cell": "Table of Contents",
   "title_sidebar": "Contents",
   "toc_cell": false,
   "toc_position": {},
   "toc_section_display": true,
   "toc_window_display": false
  }
 },
 "nbformat": 4,
 "nbformat_minor": 5
}
